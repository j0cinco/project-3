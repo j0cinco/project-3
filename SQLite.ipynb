{
 "cells": [
  {
   "cell_type": "code",
   "execution_count": 4,
   "id": "9907d413",
   "metadata": {},
   "outputs": [],
   "source": [
    "import csv\n",
    "from sqlalchemy import create_engine, Table, Column, String, MetaData, Float, Integer"
   ]
  },
  {
   "cell_type": "code",
   "execution_count": 5,
   "id": "559aa676",
   "metadata": {},
   "outputs": [],
   "source": [
    "engine = create_engine('sqlite:///spoofify.sqlite')\n",
    "metadata = MetaData()\n",
    "spotify_table = Table('spotify', metadata,\n",
    "                 Column('ID', Integer),\n",
    "                 Column('artist_name', String),\n",
    "                 Column('track_name', String),\n",
    "                 Column('track_id', String),\n",
    "                 Column('popularity', Integer),\n",
    "                 Column('year', Integer),\n",
    "                 Column('genre', String),\n",
    "                 Column('danceability', Float),\n",
    "                 Column('energy', Float),\n",
    "                 Column('key', Integer),\n",
    "                 Column('loudness', Float),\n",
    "                 Column('mode', Integer),\n",
    "                 Column('speechiness', Float),\n",
    "                 Column('acousticness', Float),\n",
    "                 Column('instrumentalness', Float),\n",
    "                 Column('liveness', Float),\n",
    "                 Column('valence', Float),\n",
    "                 Column('tempo', Float),\n",
    "                 Column('duration_ms', Integer),\n",
    "                 Column('time_signature', Integer)\n",
    "                )\n",
    "metadata.create_all(engine)\n",
    "with open('static\\\\spotify_data_short.csv', 'r', encoding='utf-8') as f:\n",
    "    reader = csv.reader(f)\n",
    "    next(reader)\n",
    "    with engine.connect() as conn:\n",
    "        conn.execute(spotify_table.insert().values([{'ID': int(row[0]), 'artist_name': row[1], 'track_name': row[2], 'track_id': row[3], 'popularity': int(row[4]), 'year': int(row[5]), 'genre': row[6], 'danceability': float(row[7]), 'energy': float(row[8]), 'key': int(row[9]), 'loudness': float(row[10]), 'mode': int(row[11]), 'speechiness': float(row[12]), 'acousticness': float(row[13]), 'instrumentalness': float(row[14]), 'liveness': float(row[15]), 'valence': float(row[16]), 'tempo': float(row[17]), 'duration_ms': int(row[18]), 'time_signature': int(row[19])} for row in reader]))\n",
    "engine.dispose()\n"
   ]
  },
  {
   "cell_type": "code",
   "execution_count": null,
   "id": "dc420da0",
   "metadata": {},
   "outputs": [],
   "source": []
  },
  {
   "cell_type": "code",
   "execution_count": null,
   "id": "556a7ec6",
   "metadata": {},
   "outputs": [],
   "source": []
  },
  {
   "cell_type": "code",
   "execution_count": null,
   "id": "486d9ab1",
   "metadata": {},
   "outputs": [],
   "source": []
  }
 ],
 "metadata": {
  "kernelspec": {
   "display_name": "Python 3 (ipykernel)",
   "language": "python",
   "name": "python3"
  },
  "language_info": {
   "codemirror_mode": {
    "name": "ipython",
    "version": 3
   },
   "file_extension": ".py",
   "mimetype": "text/x-python",
   "name": "python",
   "nbconvert_exporter": "python",
   "pygments_lexer": "ipython3",
   "version": "3.9.13"
  }
 },
 "nbformat": 4,
 "nbformat_minor": 5
}
